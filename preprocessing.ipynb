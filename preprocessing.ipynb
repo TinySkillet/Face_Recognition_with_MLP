{
 "cells": [
  {
   "cell_type": "code",
   "execution_count": 2,
   "metadata": {},
   "outputs": [],
   "source": [
    "import numpy as np\n",
    "from pathlib import Path\n",
    "import matplotlib.pyplot as plt"
   ]
  },
  {
   "cell_type": "code",
   "execution_count": 3,
   "metadata": {},
   "outputs": [
    {
     "data": {
      "text/plain": [
       "WindowsPath('e:/Statistics/Week2_AI/Tr0')"
      ]
     },
     "execution_count": 3,
     "metadata": {},
     "output_type": "execute_result"
    }
   ],
   "source": [
    "# setting directories for reading images\n",
    "WORKING_DIR = Path.cwd()\n",
    "\n",
    "IMAGE_DIR = WORKING_DIR / 'Tr0'\n",
    "IMAGE_DIR"
   ]
  },
  {
   "cell_type": "code",
   "execution_count": 8,
   "metadata": {},
   "outputs": [
    {
     "data": {
      "text/plain": [
       "5236"
      ]
     },
     "execution_count": 8,
     "metadata": {},
     "output_type": "execute_result"
    }
   ],
   "source": [
    "img_names = [img.name for img in IMAGE_DIR.glob('*.jpg')]\n",
    "\n",
    "no_of_images = len(img_names)\n",
    "first_img = plt.imread(IMAGE_DIR / img_names[0]).ravel()\n",
    "\n",
    "pixels = len(first_img)\n",
    "pixels"
   ]
  },
  {
   "cell_type": "code",
   "execution_count": 5,
   "metadata": {},
   "outputs": [],
   "source": [
    "# dataset matrix\n",
    "dataset = np.zeros((no_of_images, pixels))\n",
    "\n",
    "# target matrix\n",
    "target = np.zeros((no_of_images, ))"
   ]
  },
  {
   "cell_type": "code",
   "execution_count": 6,
   "metadata": {},
   "outputs": [
    {
     "name": "stdout",
     "output_type": "stream",
     "text": [
      "(1500, 5236)\n"
     ]
    }
   ],
   "source": [
    "for i in range(no_of_images):\n",
    "    \n",
    "    img = plt.imread(IMAGE_DIR / img_names[i]).ravel()\n",
    "    dataset[i] = img\n",
    "    \n",
    "    label = int(img_names[i][5:7])\n",
    "    target[i] = label\n",
    "\n",
    "print(dataset.shape)"
   ]
  },
  {
   "cell_type": "code",
   "execution_count": 7,
   "metadata": {},
   "outputs": [],
   "source": [
    "# save dataset and target\n",
    "\n",
    "np.save(str(WORKING_DIR / 'yale_data.npy'), dataset)\n",
    "np.save(str(WORKING_DIR / 'yale_target.npy'), target)\n"
   ]
  }
 ],
 "metadata": {
  "kernelspec": {
   "display_name": ".venv",
   "language": "python",
   "name": "python3"
  },
  "language_info": {
   "codemirror_mode": {
    "name": "ipython",
    "version": 3
   },
   "file_extension": ".py",
   "mimetype": "text/x-python",
   "name": "python",
   "nbconvert_exporter": "python",
   "pygments_lexer": "ipython3",
   "version": "3.11.5"
  }
 },
 "nbformat": 4,
 "nbformat_minor": 2
}
